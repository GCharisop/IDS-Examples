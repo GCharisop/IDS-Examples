{
  "nbformat": 4,
  "nbformat_minor": 0,
  "metadata": {
    "colab": {
      "provenance": []
    },
    "kernelspec": {
      "name": "python3",
      "display_name": "Python 3"
    },
    "language_info": {
      "name": "python"
    }
  },
  "cells": [
    {
      "cell_type": "code",
      "source": [
        "import matplotlib.pyplot as plt\n",
        "from tensorflow.keras.utils import plot_model\n",
        "import pandas as pd\n",
        "import numpy as np\n",
        "from sklearn.model_selection import train_test_split\n",
        "from sklearn.metrics import confusion_matrix\n",
        "from keras.callbacks import ModelCheckpoint, EarlyStopping\n",
        "import os\n",
        "from tensorflow.keras.utils import to_categorical\n",
        "from sklearn.utils import class_weight\n",
        "from models import models_ddos"
      ],
      "metadata": {
        "id": "uL8RLmg-NZ8-"
      },
      "execution_count": 53,
      "outputs": []
    },
    {
      "cell_type": "code",
      "source": [
        "import matplotlib.pyplot as plt\n",
        "from tensorflow.keras.utils import plot_model\n",
        "import pandas as pd\n",
        "import numpy as np\n",
        "from sklearn.model_selection import train_test_split\n",
        "from sklearn.metrics import confusion_matrix\n",
        "from keras.callbacks import ModelCheckpoint, EarlyStopping\n",
        "import os\n",
        "from tensorflow.keras.utils import to_categorical\n",
        "from sklearn.utils import class_weight"
      ],
      "metadata": {
        "id": "9Olo6PqpOkAJ"
      },
      "execution_count": 54,
      "outputs": []
    },
    {
      "cell_type": "code",
      "source": [
        "# Check if 'models' directory exists. If not, create it\n",
        "if not os.path.exists('models'):\n",
        "    os.makedirs('models')"
      ],
      "metadata": {
        "id": "j1R48JmQOpsl"
      },
      "execution_count": 55,
      "outputs": []
    },
    {
      "cell_type": "code",
      "source": [
        "# Check if 'models/models_ddos.py' exists. If not, create a placeholder\n",
        "if not os.path.exists('models/models_ddos.py'):\n",
        "    with open('models/models_ddos.py', 'w') as f:\n",
        "        f.write('')\n",
        "from models import models_ddos # Assuming models_ddos is defined within models_ddos.py"
      ],
      "metadata": {
        "id": "3xvY_krFOt0C"
      },
      "execution_count": null,
      "outputs": []
    },
    {
      "cell_type": "code",
      "source": [
        "import matplotlib.pyplot as plt\n",
        "from tensorflow.keras.utils import plot_model\n",
        "import pandas as pd\n",
        "import numpy as np\n",
        "from sklearn.model_selection import train_test_split\n",
        "from sklearn.metrics import confusion_matrix\n",
        "from keras.callbacks import ModelCheckpoint, EarlyStopping\n",
        "import os\n",
        "from tensorflow.keras.utils import to_categorical\n",
        "from sklearn.utils import class_weight\n",
        "from models import models_ddos"
      ],
      "metadata": {
        "id": "reqCByP6OyBZ"
      },
      "execution_count": 56,
      "outputs": []
    },
    {
      "cell_type": "code",
      "source": [
        "epochs = 120\n",
        "nclass = 11"
      ],
      "metadata": {
        "id": "yqCDwpXROzhM"
      },
      "execution_count": 58,
      "outputs": []
    },
    {
      "cell_type": "code",
      "source": [
        "def loadDataset():\n",
        "    # Put dataset path here !\n",
        "    filename='https://raw.githubusercontent.com/kdemertzis/EKPA/main/Data/pcap_data.csv'    # Use the raw content URL\n",
        "\n",
        "    trainfile = pd.read_csv(filename)\n",
        "    data = pd.DataFrame(trainfile).to_numpy()\n",
        "    #data=data[data[:,67]!='DrDoS_LDAP']        # Remove this line to avoid the error\n",
        "    np.random.shuffle(data)\n",
        "    label = data[:, -1].astype('str') # Access the last column using -1\n",
        "    label[label == 'WebDDoS']       = 0\n",
        "    label[label == 'BENIGN']        = 1\n",
        "    label[label == 'UDP-lag']       = 2\n",
        "    label[label == 'DrDoS_NTP']     = 3\n",
        "    label[label == 'Syn']           = 4\n",
        "    label[label == 'DrDoS_SSDP']    = 5\n",
        "    label[label == 'DrDoS_UDP']     = 6\n",
        "    label[label == 'DrDoS_NetBIOS'] = 7\n",
        "    label[label == 'DrDoS_MSSQL']   = 8\n",
        "    label[label == 'DrDoS_SNMP']    = 9\n",
        "    label[label == 'TFTP']          = 10\n",
        "    label[label == 'DrDoS_DNS']     = 11\n",
        "    #label[label == 'DrDoS_LDAP']     = 11\n",
        "    return data, label # Return data and label"
      ],
      "metadata": {
        "id": "JO-yLtfgUPML"
      },
      "execution_count": 61,
      "outputs": []
    },
    {
      "cell_type": "code",
      "source": [
        "#get the number of features\n",
        "inshape=train_data.shape[1]\n",
        "\n",
        "# Class balancing weights\n",
        "class_weights = class_weight.compute_class_weight(class_weight='balanced',\n",
        "                                                  classes=np.unique(\n",
        "                                                      train_labelp),\n",
        "                                                  y=train_labelp)"
      ],
      "metadata": {
        "id": "C3pPSnQqiAiF"
      },
      "execution_count": 50,
      "outputs": []
    },
    {
      "cell_type": "code",
      "source": [
        "class_weights = {i: class_weights[i] for i in range(len(class_weights))}\n"
      ],
      "metadata": {
        "id": "yl_vkRJAiGGf"
      },
      "execution_count": 51,
      "outputs": []
    },
    {
      "cell_type": "code",
      "source": [
        "# -- Baseline models-----------------------------------------------------------\n",
        "import models.models_ddos as models_ddos # Make sure you import the module correctly\n",
        "\n",
        "# Check if the function is defined in models_ddos.py\n",
        "# If not, define the function or correct the name if it's a typo\n",
        "if hasattr(models_ddos, 'model_conv1D'):\n",
        "    ddos_model = models_ddos.model_conv1D(lr=1e-4,N=64,inshape=inshape)\n",
        "else:\n",
        "    print(\"Error: 'model_conv1D' not found in 'models.models_ddos'\")\n",
        "    # Either define the function here or fix the import/typo"
      ],
      "metadata": {
        "colab": {
          "base_uri": "https://localhost:8080/"
        },
        "id": "0pdlokf4ifyp",
        "outputId": "fd6f81f9-9769-4134-a0d7-337abfbb3255"
      },
      "execution_count": 77,
      "outputs": [
        {
          "output_type": "stream",
          "name": "stdout",
          "text": [
            "Error: 'model_conv1D' not found in 'models.models_ddos'\n"
          ]
        }
      ]
    },
    {
      "cell_type": "code",
      "source": [
        "# -- Load best model ----------------------------------------------------------\n",
        "import os\n",
        "\n",
        "# Check if the directory exists, if not, create it\n",
        "if not os.path.exists('./savemodels'):\n",
        "    os.makedirs('./savemodels')\n",
        "\n",
        "str_models = os.listdir('./savemodels')\n",
        "str_models = np.sort(str_models)\n",
        "\n",
        "# Handle the case when the directory is empty\n",
        "if str_models.size > 0:\n",
        "    best_model = str_models[str_models.size-1]\n",
        "    print('best_model=', best_model)\n",
        "    model.load_weights('./savemodels/'+best_model)\n",
        "else:\n",
        "    print(\"No saved models found in './savemodels'\")"
      ],
      "metadata": {
        "colab": {
          "base_uri": "https://localhost:8080/"
        },
        "id": "qfpL8vY-japS",
        "outputId": "81aff59e-8f71-4f40-9648-28e975a398a4"
      },
      "execution_count": 79,
      "outputs": [
        {
          "output_type": "stream",
          "name": "stdout",
          "text": [
            "No saved models found in './savemodels'\n"
          ]
        }
      ]
    },
    {
      "cell_type": "code",
      "source": [
        "# -- Confusion matrix plot\n",
        "from sklearn.metrics import confusion_matrix, ConfusionMatrixDisplay\n",
        "label=np.array([\"WebDDoS\",\"BENIGN\",\"UDP-lag\",\"DrDoS_NTP\",\"Syn \",\n",
        "                \"DrDoS_SSDP\",\"DrDoS_UDP\",\"DrDoS_NetBIOS\",\"DrDoS_MSSQL\",\n",
        "                \"DrDoS_SNMP\",\"TFTP\",\"DrDoS_DNS\"])"
      ],
      "metadata": {
        "id": "roanAUF_kqsF"
      },
      "execution_count": 84,
      "outputs": []
    },
    {
      "cell_type": "code",
      "source": [
        "# Assuming 'model' is your compiled Keras model and you have your training and validation data ready\n",
        "# Split the data into training and validation sets (adjust the split ratio as needed)\n",
        "split_ratio = 0.8\n",
        "split_index = int(split_ratio * len(data))\n",
        "\n",
        "train_data = data[:split_index, :-1]  # Assuming the last column is the label\n",
        "train_labels = data[:split_index, -1]\n",
        "val_data = data[split_index:, :-1]\n",
        "val_labels = data[split_index:, -1]\n"
      ],
      "metadata": {
        "id": "GvevQ6cZneDu"
      },
      "execution_count": 85,
      "outputs": []
    },
    {
      "cell_type": "code",
      "source": [
        "# Make sure to run the code that defines 'cm' first, for example:\n",
        "from sklearn.metrics import confusion_matrix"
      ],
      "metadata": {
        "id": "SpuIs3s84k6z"
      },
      "execution_count": 87,
      "outputs": []
    },
    {
      "cell_type": "code",
      "source": [
        "# Assuming 'model' is your compiled Keras model and 'val_data' is your validation data\n",
        "pred_y = model.predict(val_data)\n",
        "\n",
        "# Convert probabilities to class labels (adjust as needed based on your model's output)\n",
        "pred_y = np.argmax(pred_y, axis=1)\n",
        "\n",
        "# Convert the labels to integers correctly\n",
        "test_labelp_int = test_labelp.astype(float).astype(int)\n",
        "pred_y_int = pred_y.astype(int)  # pred_y should already be numeric after argmax\n",
        "\n",
        "cm = confusion_matrix(test_labelp_int, pred_y_int)\n",
        "print(cm)"
      ],
      "metadata": {
        "colab": {
          "base_uri": "https://localhost:8080/",
          "height": 211
        },
        "id": "uFsw-jb2_dXw",
        "outputId": "3c0e583a-0e76-4735-a984-880e9284c57f"
      },
      "execution_count": 112,
      "outputs": [
        {
          "output_type": "error",
          "ename": "NameError",
          "evalue": "name 'model' is not defined",
          "traceback": [
            "\u001b[0;31m---------------------------------------------------------------------------\u001b[0m",
            "\u001b[0;31mNameError\u001b[0m                                 Traceback (most recent call last)",
            "\u001b[0;32m<ipython-input-112-0e9f6daf44a3>\u001b[0m in \u001b[0;36m<cell line: 2>\u001b[0;34m()\u001b[0m\n\u001b[1;32m      1\u001b[0m \u001b[0;31m# Assuming 'model' is your compiled Keras model and 'val_data' is your validation data\u001b[0m\u001b[0;34m\u001b[0m\u001b[0;34m\u001b[0m\u001b[0m\n\u001b[0;32m----> 2\u001b[0;31m \u001b[0mpred_y\u001b[0m \u001b[0;34m=\u001b[0m \u001b[0mmodel\u001b[0m\u001b[0;34m.\u001b[0m\u001b[0mpredict\u001b[0m\u001b[0;34m(\u001b[0m\u001b[0mval_data\u001b[0m\u001b[0;34m)\u001b[0m\u001b[0;34m\u001b[0m\u001b[0;34m\u001b[0m\u001b[0m\n\u001b[0m\u001b[1;32m      3\u001b[0m \u001b[0;34m\u001b[0m\u001b[0m\n\u001b[1;32m      4\u001b[0m \u001b[0;31m# Convert probabilities to class labels (adjust as needed based on your model's output)\u001b[0m\u001b[0;34m\u001b[0m\u001b[0;34m\u001b[0m\u001b[0m\n\u001b[1;32m      5\u001b[0m \u001b[0mpred_y\u001b[0m \u001b[0;34m=\u001b[0m \u001b[0mnp\u001b[0m\u001b[0;34m.\u001b[0m\u001b[0margmax\u001b[0m\u001b[0;34m(\u001b[0m\u001b[0mpred_y\u001b[0m\u001b[0;34m,\u001b[0m \u001b[0maxis\u001b[0m\u001b[0;34m=\u001b[0m\u001b[0;36m1\u001b[0m\u001b[0;34m)\u001b[0m\u001b[0;34m\u001b[0m\u001b[0;34m\u001b[0m\u001b[0m\n",
            "\u001b[0;31mNameError\u001b[0m: name 'model' is not defined"
          ]
        }
      ]
    },
    {
      "cell_type": "code",
      "source": [
        "# -- Load best model ----------------------------------------------------------\n",
        "import os\n",
        "import tensorflow as tf # Import tensorflow\n",
        "\n",
        "# Check if the directory exists, if not, create it\n",
        "if not os.path.exists('./savemodels'):\n",
        "    os.makedirs('./savemodels')\n",
        "\n",
        "str_models = os.listdir('./savemodels')\n",
        "str_models = np.sort(str_models)\n",
        "\n",
        "# Handle the case when the directory is empty\n",
        "if str_models.size > 0:\n",
        "    best_model = str_models[str_models.size-1]\n",
        "    print('best_model=', best_model)"
      ],
      "metadata": {
        "id": "tOlwjtof_mEP"
      },
      "execution_count": 97,
      "outputs": []
    },
    {
      "cell_type": "code",
      "source": [
        "# Assuming 'model' is your compiled Keras model and 'val_data' is your validation data\n",
        "pred_y = model.predict(val_data)\n",
        "\n",
        "# Convert probabilities to class labels (adjust as needed based on your model's output)\n",
        "pred_y = np.argmax(pred_y, axis=1)\n",
        "\n",
        "# Convert the labels to integers correctly\n",
        "test_labelp_int = test_labelp.astype(float).astype(int)\n",
        "pred_y_int = pred_y.astype(int)  # pred_y should already be numeric after argmax\n",
        "\n",
        "cm = confusion_matrix(test_labelp.astype(float).astype(int), pred_y) # Use pred_y since it holds the model predictions\n",
        "print(cm)"
      ],
      "metadata": {
        "colab": {
          "base_uri": "https://localhost:8080/"
        },
        "id": "3i9elygk_-Nv",
        "outputId": "bf16ea43-c4a8-421e-84eb-b7a48f19c0ef"
      },
      "execution_count": 123,
      "outputs": [
        {
          "output_type": "stream",
          "name": "stdout",
          "text": [
            "\u001b[1m94/94\u001b[0m \u001b[32m━━━━━━━━━━━━━━━━━━━━\u001b[0m\u001b[37m\u001b[0m \u001b[1m0s\u001b[0m 2ms/step\n",
            "[[ 19 200  85 108 387  85  66   5  44   2]\n",
            " [ 23 189  87 108 397  91  52   4  52   0]\n",
            " [ 17 195  75  89 443  77  45   3  46   0]\n",
            " [  0   0   0   0   0   0   0   0   0   0]\n",
            " [  0   0   0   0   0   0   0   0   0   0]\n",
            " [  0   0   0   0   0   0   0   0   0   0]\n",
            " [  0   0   0   0   0   0   0   0   0   0]\n",
            " [  0   0   0   0   0   0   0   0   0   0]\n",
            " [  0   0   0   0   0   0   0   0   0   0]\n",
            " [  0   0   0   0   0   0   0   0   0   0]]\n"
          ]
        }
      ]
    },
    {
      "cell_type": "code",
      "source": [
        "# -- Load best model ----------------------------------------------------------\n",
        "import os\n",
        "import tensorflow as tf # Import tensorflow\n",
        "\n",
        "# Check if the directory exists, if not, create it\n",
        "if not os.path.exists('./savemodels'):\n",
        "    os.makedirs('./savemodels')\n",
        "\n",
        "str_models = os.listdir('./savemodels')\n",
        "str_models = np.sort(str_models)"
      ],
      "metadata": {
        "id": "YvPpy41EAKU2"
      },
      "execution_count": 101,
      "outputs": []
    },
    {
      "cell_type": "code",
      "source": [
        "# Handle the case when the directory is empty\n",
        "if str_models.size > 0:\n",
        "    best_model = str_models[str_models.size-1]\n",
        "    print('best_model=', best_model)"
      ],
      "metadata": {
        "id": "yxAD6W5OAPKt"
      },
      "execution_count": 102,
      "outputs": []
    },
    {
      "cell_type": "code",
      "source": [
        "# Handle the case when the directory is empty\n",
        "if str_models.size > 0:\n",
        "    best_model = str_models[str_models.size-1]\n",
        "    print('best_model=', best_model)\n",
        "\n",
        "    # Load the best model (assuming it's a .h5 file)\n",
        "    model = tf.keras.models.load_model('./savemodels/' + best_model) # Load the model here, indented within the 'if' block\n",
        "else:\n",
        "    print(\"No saved models found.\")"
      ],
      "metadata": {
        "colab": {
          "base_uri": "https://localhost:8080/"
        },
        "id": "jQbadIqAAxZq",
        "outputId": "064ede67-a6ee-45e9-9f86-a050c0c1a609"
      },
      "execution_count": 109,
      "outputs": [
        {
          "output_type": "stream",
          "name": "stdout",
          "text": [
            "No saved models found.\n"
          ]
        }
      ]
    },
    {
      "cell_type": "code",
      "source": [
        "# Assuming you are using TensorFlow and Keras\n",
        "from tensorflow import keras\n",
        "\n",
        "# 1. Load a pre-trained model (if you have one)\n",
        "# model = keras.models.load_model('path/to/your/model.h5')\n",
        "\n",
        "# 2. Or, define and compile a new model\n",
        "# Example:\n",
        "model = keras.Sequential([\n",
        "    keras.layers.Dense(64, activation='relu', input_shape=(val_data.shape[1],)),\n",
        "    keras.layers.Dense(10, activation='softmax')  # Adjust number of classes as needed\n",
        "])\n",
        "model.compile(optimizer='adam', loss='sparse_categorical_crossentropy', metrics=['accuracy'])\n",
        "\n",
        "# Now you can predict\n",
        "pred_y = model.predict(val_data)"
      ],
      "metadata": {
        "colab": {
          "base_uri": "https://localhost:8080/"
        },
        "id": "38kUWt7vBX3D",
        "outputId": "09ba2468-2dde-4d8f-fea2-a9555f7e04cf"
      },
      "execution_count": 113,
      "outputs": [
        {
          "output_type": "stream",
          "name": "stderr",
          "text": [
            "/usr/local/lib/python3.10/dist-packages/keras/src/layers/core/dense.py:87: UserWarning: Do not pass an `input_shape`/`input_dim` argument to a layer. When using Sequential models, prefer using an `Input(shape)` object as the first layer in the model instead.\n",
            "  super().__init__(activity_regularizer=activity_regularizer, **kwargs)\n"
          ]
        },
        {
          "output_type": "stream",
          "name": "stdout",
          "text": [
            "\u001b[1m94/94\u001b[0m \u001b[32m━━━━━━━━━━━━━━━━━━━━\u001b[0m\u001b[37m\u001b[0m \u001b[1m0s\u001b[0m 2ms/step\n"
          ]
        }
      ]
    },
    {
      "cell_type": "code",
      "source": [
        "# -- Confusion matrix plot\n",
        "from sklearn.metrics import confusion_matrix, ConfusionMatrixDisplay\n",
        "import matplotlib.pyplot as plt # Import matplotlib\n",
        "import numpy as np\n",
        "\n",
        "label=np.array([\"WebDDoS\",\"BENIGN\",\"UDP-lag\",\"DrDoS_NTP\",\"Syn \",\n",
        "                \"DrDoS_SSDP\",\"DrDoS_UDP\",\"DrDoS_NetBIOS\",\"DrDoS_MSSQL\",\n",
        "                \"DrDoS_SNMP\",\"TFTP\",\"DrDoS_DNS\"])"
      ],
      "metadata": {
        "id": "MCHmDYnnBqqi"
      },
      "execution_count": 132,
      "outputs": []
    },
    {
      "cell_type": "code",
      "source": [
        "# Assuming 'test_labelp' and 'pred_y' are available from previous cells\n",
        "\n",
        "# Convert predicted probabilities to class labels\n",
        "pred_y_labels = np.argmax(pred_y, axis=1) # Get the index of the class with highest probability"
      ],
      "metadata": {
        "id": "9HuIc2fNBsD4"
      },
      "execution_count": 133,
      "outputs": []
    },
    {
      "cell_type": "code",
      "source": [
        "# Convert predicted probabilities to class labels\n",
        "pred_y_labels = np.argmax(pred_y, axis=1)  # Get the index of the class with highest probability for each sample\n",
        "\n",
        "# Convert test_labelp to integers if they are strings\n",
        "test_labelp = test_labelp.astype(float).astype(int)\n",
        "\n",
        "cm = confusion_matrix(test_labelp, pred_y_labels)  # Calculate confusion matrix\n",
        "print(cm)\n",
        "\n",
        "# Ensure the number of labels matches the dimensions of the confusion matrix\n",
        "# Adjust the number of labels based on your actual number of classes\n",
        "cmo = ConfusionMatrixDisplay(cm, display_labels=label[:cm.shape[0]])\n",
        "\n",
        "fig, ax = plt.subplots(figsize=(12,12))\n",
        "cmo.plot(ax=ax, xticks_rotation=45)\n",
        "plt.show() # Display the plot"
      ],
      "metadata": {
        "colab": {
          "base_uri": "https://localhost:8080/",
          "height": 885
        },
        "id": "1GgRKtBWC40B",
        "outputId": "a1ade787-2b5a-4268-ae92-16685ced2775"
      },
      "execution_count": 137,
      "outputs": [
        {
          "output_type": "stream",
          "name": "stdout",
          "text": [
            "[[1001    0    0]\n",
            " [1003    0    0]\n",
            " [ 990    0    0]]\n"
          ]
        },
        {
          "output_type": "display_data",
          "data": {
            "text/plain": [
              "<Figure size 1200x1200 with 2 Axes>"
            ],
            "image/png": "[encoded data removed]"
          },
          "metadata": {}
        }
      ]
    },
    {
      "cell_type": "code",
      "source": [
        "# Convert predicted probabilities to class labels\n",
        "# Reshape pred_y to a 2D array if it's currently 1D\n",
        "if pred_y.ndim == 1:\n",
        "    pred_y = pred_y.reshape(-1, 1)  # Assuming a single class prediction for each sample\n",
        "\n",
        "pred_y_labels = np.argmax(pred_y, axis=1)  # Get the index of the class with highest probability for each sample\n",
        "\n",
        "# Convert test_labelp to integers if they are strings\n",
        "test_labelp = test_labelp.astype(float).astype(int)\n",
        "\n",
        "cm = confusion_matrix(test_labelp, pred_y_labels)  # Calculate confusion matrix\n",
        "print(cm)"
      ],
      "metadata": {
        "colab": {
          "base_uri": "https://localhost:8080/"
        },
        "id": "cMwr-kiFDANv",
        "outputId": "f28b7494-617e-4b6f-d51d-b03b1ccbfd2e"
      },
      "execution_count": 138,
      "outputs": [
        {
          "output_type": "stream",
          "name": "stdout",
          "text": [
            "[[1001    0    0]\n",
            " [1003    0    0]\n",
            " [ 990    0    0]]\n"
          ]
        }
      ]
    },
    {
      "cell_type": "code",
      "source": [
        "# Ensure the number of labels matches the dimensions of the confusion matrix\n",
        "# Adjust the number of labels based on your actual number of classes\n",
        "cmo = ConfusionMatrixDisplay(cm, display_labels=label[:cm.shape[0]])\n",
        "\n",
        "fig, ax = plt.subplots(figsize=(12,12))\n",
        "cmo.plot(ax=ax, xticks_rotation=45)\n",
        "plt.show() # Display the plot"
      ],
      "metadata": {
        "colab": {
          "base_uri": "https://localhost:8080/",
          "height": 833
        },
        "id": "xWaTLC4cDDu1",
        "outputId": "7b1f819d-90c6-4a32-dbf0-43ffe1786d36"
      },
      "execution_count": 129,
      "outputs": [
        {
          "output_type": "display_data",
          "data": {
            "text/plain": [
              "<Figure size 1200x1200 with 2 Axes>"
            ],
            "image/png": "[encoded data removed]"
          },
          "metadata": {}
        }
      ]
    }
  ]
}